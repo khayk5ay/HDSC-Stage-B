{
  "cells": [
    {
      "cell_type": "markdown",
      "metadata": {
        "id": "view-in-github",
        "colab_type": "text"
      },
      "source": [
        "<a href=\"https://colab.research.google.com/github/khayk5ay/HDSC-Stage-B/blob/main/HDSC_Stage_B_Quiz_Answers.ipynb\" target=\"_parent\"><img src=\"https://colab.research.google.com/assets/colab-badge.svg\" alt=\"Open In Colab\"/></a>"
      ]
    },
    {
      "cell_type": "code",
      "execution_count": null,
      "metadata": {
        "id": "kyHpuaUFctck"
      },
      "outputs": [],
      "source": [
        "# importing required packages\n",
        "import numpy as np\n",
        "import pandas as pd\n",
        "import seaborn as sns\n",
        "import matplotlib.pyplot as plt\n",
        "from sklearn.linear_model import LinearRegression, Lasso, Ridge"
      ]
    },
    {
      "cell_type": "code",
      "execution_count": null,
      "metadata": {
        "id": "n2nBegvKcwtK"
      },
      "outputs": [],
      "source": [
        "energy_efficiency_df = pd.read_csv('https://archive.ics.uci.edu/ml/machine-learning-databases/00374/energydata_complete.csv')\n",
        "\n",
        "#change column names\n",
        "column_names = {'date': 'date', 'Appliances': 'app_energy', 'lights': 'light_energy', 'T1': 't_kitchen', 'RH_1': 'humidity_kitchen', \n",
        "                'T2': 't_living', 'RH_2': 'humidity_living', 'T3': 't_laundry', 'RH_3': 'humidity_laundry', 'T4': 't_office', 'RH_4': 'humidity_office', \n",
        "                'T5': 't_bathroom', 'RH_5': 'humidity_bathroom', 'T6': 't_outside_north', 'RH_6': 'humidity_outside_north', \n",
        "                'T7': 't_ironing', 'RH_7': 'humidity_ironing', 'T8': 't_teenager', 'RH_8': 'humidity_teenager', 'T9': 't_parents', 'RH_9': 'humidity_parents', \n",
        "                'T_out': 't_outside_chievres', 'Press_mm_hg': 'pressure_chievres', 'RH_out': 'humidity_chievres', 'Windspeed': 'wind_speed_chievres', 'Visibility': 'visibility_chievres', \n",
        "                'Tdewpoint': 'tdewpoint_chievres', 'rv1': 'rv1', 'rv2': 'rv2'}\n",
        "\n",
        "energy_efficiency_df = energy_efficiency_df.rename(columns = column_names)\n",
        "energy_efficiency_df.head()"
      ]
    },
    {
      "cell_type": "code",
      "execution_count": null,
      "metadata": {
        "id": "0jChR9XCc5Xo"
      },
      "outputs": [],
      "source": [
        "#question 12\n",
        "from numpy.ma.core import reshape\n",
        "from sklearn.metrics import r2_score\n",
        "from sklearn.model_selection import train_test_split\n",
        "linear_model_12 = LinearRegression()\n",
        "\n",
        "x_train_12, x_test_12, y_train_12, y_test_12 = train_test_split(energy_efficiency_df[['t_living']], energy_efficiency_df['t_outside_north'], \n",
        "                                                                test_size = 0.3, random_state = 2)\n",
        "\n",
        "linear_model_12.fit(x_train_12, y_train_12)\n",
        "\n",
        "y_predict_12 = linear_model_12.predict(x_test_12)\n",
        "\n",
        "r2_score_12 = r2_score(y_test_12, y_predict_12)\n",
        "\n",
        "round(r2_score_12, 2)"
      ]
    },
    {
      "cell_type": "code",
      "execution_count": null,
      "metadata": {
        "id": "jOa2KLrbc78Q"
      },
      "outputs": [],
      "source": [
        "#question 13\n",
        "\n",
        "#separate features and target\n",
        "features_df = energy_efficiency_df.drop(columns = ['date', 'light_energy'])\n",
        "\n",
        "\n",
        "#normalise the data\n",
        "from sklearn.preprocessing import MinMaxScaler\n",
        "scaler = MinMaxScaler()\n",
        "normalised_df = pd.DataFrame(scaler.fit_transform(features_df), columns = features_df.columns)\n",
        "features_normalised_df = normalised_df.drop(columns = 'app_energy')\n",
        "target_df = normalised_df['app_energy']\n",
        "\n",
        "#obtain train and test data\n",
        "x_train_13, x_test_13, y_train_13, y_test_13 = train_test_split(features_normalised_df, target_df, test_size = 0.7, random_state = 42)\n",
        "\n",
        "\n",
        "#fit model to data\n",
        "multiple_linear_model = LinearRegression()\n",
        "\n",
        "multiple_linear_model.fit(x_train_13, y_train_13)\n",
        "\n",
        "#predict values\n",
        "y_predict_13 = multiple_linear_model.predict(x_test_13)\n",
        "\n",
        "#measure metrics\n",
        "from sklearn.metrics import mean_absolute_error\n",
        "mae_13 = mean_absolute_error(y_test_13, y_predict_13)\n",
        "round(mae_13, 2)\n"
      ]
    },
    {
      "cell_type": "code",
      "execution_count": null,
      "metadata": {
        "id": "y-EUbJQ9hLf_"
      },
      "outputs": [],
      "source": [
        "#question 14\n",
        "#measure residual sum of squares\n",
        "\n",
        "rss_14 = np.sum(np.square(y_test_13 - y_predict_13))\n",
        "round(rss_14, 2)"
      ]
    },
    {
      "cell_type": "code",
      "execution_count": null,
      "metadata": {
        "id": "C76aotzOiBxr"
      },
      "outputs": [],
      "source": [
        "#question 15\n",
        "from sklearn.metrics import mean_squared_error\n",
        "\n",
        "rmse_15 = np.sqrt(mean_squared_error(y_test_13, y_predict_13))\n",
        "round(rmse_15, 3)"
      ]
    },
    {
      "cell_type": "code",
      "source": [
        "#question 16\n",
        "r2_score_16 = r2_score(y_test_13, y_predict_13)\n",
        "\n",
        "round(r2_score_16, 2)"
      ],
      "metadata": {
        "id": "1bII1KRqsK3P"
      },
      "execution_count": null,
      "outputs": []
    },
    {
      "cell_type": "code",
      "source": [
        "#question 17\n",
        "linear_model_weights_df = pd.DataFrame(multiple_linear_model.coef_, features_normalised_df.columns)\n",
        "linear_model_weights_df\n"
      ],
      "metadata": {
        "id": "MBLoCc05sMDc"
      },
      "execution_count": null,
      "outputs": []
    },
    {
      "cell_type": "code",
      "source": [
        "#question 18\n",
        "ridge_reg = Ridge(alpha = 0.4)\n",
        "\n",
        "ridge_reg.fit(x_train_13, y_train_13)\n",
        "\n",
        "y_predict_18 = ridge_reg.predict(x_test_13)\n",
        "\n",
        "rmse_18 = np.sqrt(mean_squared_error(y_test_13, y_predict_18))\n",
        "\n",
        "round(rmse_18, 3)"
      ],
      "metadata": {
        "id": "pBa8P7IMsNQ4"
      },
      "execution_count": null,
      "outputs": []
    },
    {
      "cell_type": "code",
      "source": [
        "#question 19\n",
        "#lasso regression\n",
        "\n",
        "lasso_reg = Lasso(alpha = 0.001)\n",
        "\n",
        "lasso_reg.fit(x_train_13, y_train_13)\n",
        "\n",
        "y_predict_19 = lasso_reg.predict(x_test_13)\n",
        "\n",
        "lasso_weights_df = pd.DataFrame(lasso_reg.coef_, features_normalised_df.columns)\n",
        "\n",
        "#number of values that are non-zero\n",
        "len([x for x in lasso_weights_df.values if x != 0])"
      ],
      "metadata": {
        "id": "FsICMZonsOcT"
      },
      "execution_count": null,
      "outputs": []
    },
    {
      "cell_type": "code",
      "source": [
        "#question 20\n",
        "#lasso rmse\n",
        "\n",
        "rmse_20 = np.sqrt(mean_squared_error(y_test_13, y_predict_19))\n",
        "round(rmse_20, 3)"
      ],
      "metadata": {
        "id": "W2x5UsiIsPg9"
      },
      "execution_count": null,
      "outputs": []
    },
    {
      "cell_type": "code",
      "source": [
        ""
      ],
      "metadata": {
        "id": "vsaXmS9cuFhX"
      },
      "execution_count": null,
      "outputs": []
    }
  ],
  "metadata": {
    "colab": {
      "name": "HDSC Stage B Quiz Answers.ipynb",
      "provenance": [],
      "collapsed_sections": [],
      "authorship_tag": "ABX9TyP6lMSt/EJE6/w4WEGHxYCT",
      "include_colab_link": true
    },
    "kernelspec": {
      "display_name": "Python 3",
      "name": "python3"
    },
    "language_info": {
      "name": "python"
    }
  },
  "nbformat": 4,
  "nbformat_minor": 0
}